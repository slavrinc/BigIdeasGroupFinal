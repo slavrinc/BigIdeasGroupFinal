{
 "cells": [
  {
   "cell_type": "markdown",
   "metadata": {},
   "source": [
    "# **Covid**\n",
    "\n",
    "## **How much around you can be affected?**\n",
    "\n",
    "### Introduction"
   ]
  },
  {
   "cell_type": "markdown",
   "metadata": {},
   "source": [
    "   When deciding on where to live, many people have millions of questions that will help them decide where they would like to live and what county would be the best fit for them. The covid cases can play a major role, especially in this day and age for when people are trying to decide on what community they want to live in. Coronavirus has just now become a concern for our country as a whole, leaving many to worry for their lives when going out or even going to talk to their neighbor. Covid is a concern for which area you would like to live in because if a community has a high level of cases, maybe some people would not want to live there. They might not want their kids around the other children if there is a park or maybe even the school could be fully affected by the high increase in cases if their family member has the virus. With the rapid impact of covid on multiple people at a time, many do now like to create questions about covid and how it could affect their area in which they are living. \n",
    "   \n",
    "   This metric seems to be important in deciding on what county/commuity you want to live in because covid can affect multiple people at a time and have a rapid spread across multiple people. Some people are very nervous with covid and if your family that is moving in has a child or newborn they might be a bit more nervous than most becasue they do not want their new born to get the virus. In this day, covid is a very important topic and many take it into consideration when they are moving around the country, even into their new community. Also, this dataset is very useful because it could base what school you want to send your children because if there are less covid cases in the area, then their chances are likely low of catching covid through schools in the area."
   ]
  },
  {
   "cell_type": "markdown",
   "metadata": {},
   "source": [
    "### Dataset Used"
   ]
  },
  {
   "cell_type": "markdown",
   "metadata": {},
   "source": [
    "Dataset - https://data.wprdc.org/datastore/dump/0f214885-ff3e-44e1-9963-e9e9062a04d1\n",
    "\n",
    "#### Allegheny County Covid-19 Counts by Municipality and Pittsburgh Neighborhood\n",
    "\n",
    "This data set comes from the WPRDC and shows the different neighborhoods throughout allegheny county along with the amount of people tested, cases, deaths and the dates within it was updated of each community in the county. This data set is very useful because with the amount of cases, you can see how rapid it could spread throughout the community or even show your chances of catching it based on population as well. It is very accurate and well up to date due to the amount of people who would probably like to see what is happening in their community."
   ]
  },
  {
   "cell_type": "markdown",
   "metadata": {},
   "source": [
    "### Code Processing"
   ]
  },
  {
   "cell_type": "code",
   "execution_count": 3,
   "metadata": {},
   "outputs": [
    {
     "data": {
      "image/png": "[encoded data removed]",
      "text/plain": [
       "<Figure size 432x288 with 1 Axes>"
      ]
     },
     "metadata": {
      "needs_background": "light"
     },
     "output_type": "display_data"
    }
   ],
   "source": [
    "import pandas as pd\n",
    "#import the downloaded file\n",
    "covidOut = pd.read_csv(\"covid.csv\")\n",
    "#use only the rows and colums that are needed to show the result wanted\n",
    "covidAmount = covidOut.iloc[:,[0,2]] \n",
    "#this sorts the cases column to show the greatest number to the least number\n",
    "covidAmount = covidAmount.sort_values(by='cases', ascending = False)\n",
    "#this gives the first 5 neighborhoods that have the greatest amount of covid cases\n",
    "covidAmount = covidAmount.head(5)\n",
    "#this helps set up the bar graph with the neighborhoods as the x-axis and the number of cases as the y\n",
    "plot1=covidAmount.plot.bar(x='neighborhood_municipality', y='cases', rot=0)"
   ]
  },
  {
   "cell_type": "markdown",
   "metadata": {},
   "source": [
    "Through this dataset, you can see who has the greatest amount of covid cases throughout all the neighborhoods. This graph is important and logical to the reasoning of what community to live in because it shows where you can have a greater chance of catching covid and where it is unsafe to live due to the large amounts of interaction your could have with people that might have caught covid. "
   ]
  },
  {
   "cell_type": "code",
   "execution_count": 4,
   "metadata": {},
   "outputs": [
    {
     "data": {
      "image/png": "[encoded data removed]",
      "text/plain": [
       "<Figure size 432x288 with 1 Axes>"
      ]
     },
     "metadata": {
      "needs_background": "light"
     },
     "output_type": "display_data"
    }
   ],
   "source": [
    "#import the downloaded file\n",
    "covidOut = pd.read_csv(\"covid.csv\")\n",
    "#use only the rows and colums that are needed to show the result wanted\n",
    "covidAmount = covidOut.iloc[:,[0,2]] \n",
    "#this sorts the cases column to show the least amount to the highest amount\n",
    "covidAmount = covidAmount.sort_values(by='cases')\n",
    "#this gives the first 5 neighborhoods that have the least amount of covid cases\n",
    "covidAmount = covidAmount.head(5)\n",
    "#this helps set up the bar graph with the neighborhoods as the x-axis and the number of cases as the y\n",
    "plot1=covidAmount.plot.bar(x='neighborhood_municipality', y='cases', rot=0)"
   ]
  },
  {
   "cell_type": "markdown",
   "metadata": {},
   "source": [
    "Through this dataset, you learn what communities are safe to live in based on the amount of cases shown in the graph. As seen by this graph, there are some communities who did not catch one case of covid and who were probably safe when dealing with covid, or it is not a big of a college area where people would perhaps not quaritine as much as older people. "
   ]
  },
  {
   "cell_type": "markdown",
   "metadata": {},
   "source": [
    "### Other Considerations from Covid Cases in the area"
   ]
  },
  {
   "cell_type": "markdown",
   "metadata": {},
   "source": [
    "#### Nursing Homes"
   ]
  },
  {
   "cell_type": "markdown",
   "metadata": {},
   "source": [
    "In the history of covid, it has been recorded that nursing homes were hit hte hardest with covid, killing millions of elders with the start of one case running throughout the whole building. This might change the idea of how many cases were truly in that area because the nursing home patients would not leave, but maybe the workers inside would catch it, bringing it back to the community in which they live in. There is no data set to show who has the highest amout of nursing homes in the area, but according to some research, according to the department of health in Pennsylvania:\n",
    "\n",
    "Allegheny County Data\n",
    "\n",
    "\n",
    "110 nursing home facilities \n",
    "\n",
    "1741 patients with covid\n",
    "\n",
    "611 worker cases\n",
    "\n",
    "328 deaths\n",
    "\n",
    "This data shows that there were 611 workers, all from different communites that could have easily spread the diesease around their area because maybe they did not realize at first or maybe they never had strong symptoms. This could easily cause a spread in a neighborhood without someone even realizing, showing how not all data is truly accurate due to the multiple factors that can apply to them. \n",
    "\n",
    "**Citation:**\n",
    "“LTCF Data.” COVID-19 Long-Term Care Facilities Data for Pennsylvania, Department of Health, 2020, www.health.pa.gov/topics/disease/coronavirus/Pages/LTCF-Data.aspx. "
   ]
  },
  {
   "cell_type": "markdown",
   "metadata": {},
   "source": [
    "#### Population"
   ]
  },
  {
   "cell_type": "markdown",
   "metadata": {},
   "source": [
    "Population of a community can play a large role in the spread of coronavirus which can lead to alot more deaths in the area which will in turn spike the cases and make the community go into a lockdown or have stricter rules with what people can and can not do. This is how my topic relates to sam's because more of a population, the more chance of someone having covid or the easier it could spread if people are out and about in their community. However, before covid times, population would be a mjor factor because it could show where most people like to live especially if you are trying to start a family or you want to be around people to meet new people. \n",
    "\n",
    "With covid now put into place, some people are now too scared to even leave their house leading to how population could affect the results of catching covid from even your neighbor. Population is very good with interacting with others and building that sense of community, but it could lead to an increase of covid cases leading to maybe a dislike in wanting to live in that neighborhood. "
   ]
  },
  {
   "cell_type": "markdown",
   "metadata": {},
   "source": [
    "### Conclusion"
   ]
  },
  {
   "cell_type": "markdown",
   "metadata": {},
   "source": [
    "After viewing which neighborhoods have the highest amount of cases, it can be concluded that the following 5 neighborhoods have the higest cases in the whole data set through the chart and graph depicted above:\n",
    "\n",
    "**1.) Baldwin Borough**\n",
    "\n",
    "2.) Penn Hills\n",
    "\n",
    "3.) Ross\n",
    "\n",
    "4.) Mount Lebanon\n",
    "\n",
    "5.) Whitehall"
   ]
  },
  {
   "cell_type": "markdown",
   "metadata": {},
   "source": [
    "After viewing the second graph, it can be concluded that these are the top 5 safest communities to live in based on the amount of covid cases:\n",
    "\n",
    "**1.) Mt. Oliver (Pittsburgh)**\n",
    "\n",
    "2.) St. Clair (Pittsburgh)\n",
    "\n",
    "3.) Undefined (Pittsburgh)\n",
    "\n",
    "4.) Trafford \n",
    "\n",
    "5.) Chateau (Pittsburgh)"
   ]
  },
  {
   "cell_type": "markdown",
   "metadata": {},
   "source": [
    "In conclusion to all the data seen and the many considerations put into place that could play a factor in one person chosing where they would like to live and in what community they would want to live in, Mt. Oliver does seem to be the safest or any one of the 5 that has zero cases of covid within their community. Since the data set shows zero cases of covid in the community, it can be inferred that the people among these communites are safe with their caution to covid and maybe they are very responsible people who want the best for the people around them. Many people do not like to follow guidelines of covid as seen by the data above with the communities that have the most cases, and this could be due to the college kids living off campus or people who do not even believe in covid. However, there are safe communities that take covid seriously and have had a good turn out in not gaining any conditions of having covid in their neighborhoods. \n",
    "\n",
    "This idea of covid directly relates to the idea of population because it can cause the virus to be spread out more over more people in the community. A less populated neighborhood would work in the favor of not recieveing any high levels of covid cases which can be a benefit to a new family wanting to start a new life. All in all, covid is a very serious topic in today's world and many people do take it into consideration when they are trying to move to an area. People want to feel safe in their community and feel that they are not at much of a risk with catching covid from their neighbors or they do not want to give covid to the neighbors around them. \n",
    "\n",
    "Based on my team's other conclusions with their metircs, as a whole we have decided that Strip District and Central Business District are the best and I can agree on this statement because covid is going to be everywhere you go currently, so you can not completely hide from it unless you are restricting yourself from going outside. According to my data these two places have below 100 cases which I feel is responable knowing that some had over 300 cases in other areas. These were the best two to be picked according to everyone."
   ]
  },
  {
   "cell_type": "code",
   "execution_count": null,
   "metadata": {},
   "outputs": [],
   "source": []
  }
 ],
 "metadata": {
  "kernelspec": {
   "display_name": "Python 3",
   "language": "python",
   "name": "python3"
  },
  "language_info": {
   "codemirror_mode": {
    "name": "ipython",
    "version": 3
   },
   "file_extension": ".py",
   "mimetype": "text/x-python",
   "name": "python",
   "nbconvert_exporter": "python",
   "pygments_lexer": "ipython3",
   "version": "3.8.3"
  }
 },
 "nbformat": 4,
 "nbformat_minor": 4
}
